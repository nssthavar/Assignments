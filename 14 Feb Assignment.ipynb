{
 "cells": [
  {
   "cell_type": "markdown",
   "id": "7e9c171b-db1e-4c31-9017-2745edb76e80",
   "metadata": {},
   "source": [
    "#### Q1. What is multithreading in python? Why is it used? Name the module used to handle threads in python\n",
    "\n",
    "Multithreading in Python refers to the ability of a program to execute multiple threads (subprocesses) at the same time. Each thread runs independently of the others, but they all share the same memory space and can communicate with each other.\n",
    "\n",
    "Multithreading is used to improve the performance of applications that can benefit from running multiple tasks simultaneously. For example, a web server can handle multiple requests at the same time using threads, a GUI application can use threads to perform background tasks without blocking the main user interface, and a data processing application can use threads to parallelize computation.\n",
    "\n",
    "In Python, the threading module is used to handle threads. This module provides a high-level interface for creating and managing threads in Python. It allows you to create new threads, start them, pause them, and stop them.\n",
    "\n",
    "Here's a simple example of creating and starting a new thread using the threading module:\n",
    "\n",
    "In this example, we define a function called worker that will run in a separate thread. We then create a new thread using the threading.Thread constructor and passing the worker function as the target parameter. Finally, we start the thread using the start method and wait for it to finish using the join method. The main thread then continues and prints \"Main thread finished\"."
   ]
  },
  {
   "cell_type": "code",
   "execution_count": 3,
   "id": "84366532-6f5e-4ad3-b100-397cad31dfc7",
   "metadata": {},
   "outputs": [
    {
     "name": "stdout",
     "output_type": "stream",
     "text": [
      "Worker thread started\n",
      "Worker thread finished\n",
      "Main thread finished\n"
     ]
    }
   ],
   "source": [
    "import threading\n",
    "\n",
    "def worker():\n",
    "    \"\"\"Function that will run in a separate thread\"\"\"\n",
    "    print(\"Worker thread started\")\n",
    "    # do some work here\n",
    "    print(\"Worker thread finished\")\n",
    "\n",
    "# Create a new thread\n",
    "t = threading.Thread(target=worker)\n",
    "\n",
    "# Start the thread\n",
    "t.start()\n",
    "\n",
    "# Wait for the thread to finish\n",
    "t.join()\n",
    "\n",
    "print(\"Main thread finished\")"
   ]
  },
  {
   "cell_type": "markdown",
   "id": "dac4e18c-93b1-4d11-9a99-16edadd7368f",
   "metadata": {},
   "source": [
    "#### Q2. Why threading module used? Write the use of the following functions:\n",
    "1. activeCount()\n",
    "2. currentThread()\n",
    "3. enumerate()\n",
    "\n",
    "The threading module in Python is used to create and manage threads in a program. It provides a high-level interface for creating and managing threads, allowing developers to write code that can run multiple tasks simultaneously.\n",
    "\n",
    "Here are the uses of the following functions in the threading module:\n",
    "\n",
    "activeCount(): This function returns the number of thread objects that are active in the current Python interpreter. It is useful for debugging and monitoring purposes.\n",
    "\n",
    "currentThread(): This function returns a reference to the thread object representing the current thread of execution. This can be useful for debugging and for accessing thread-specific data.\n",
    "\n",
    "enumerate(): This function returns a list of all thread objects that are currently active in the current Python interpreter. It can be used to iterate over all threads and perform operations on each one.\n",
    "\n",
    "Here's an example that demonstrates the use of these functions:\n",
    "\n",
    "In this example, we define a function called worker that will run in a separate thread. Inside the worker function, we use the activeCount(), currentThread(), and enumerate() functions to print information about the threads that are active in the current Python interpreter. We then create a new thread using the threading.Thread constructor and passing the worker function as the target parameter. Finally, we start the thread using the start method, wait for it to finish using the join method, and print \"Main thread finished\"."
   ]
  },
  {
   "cell_type": "code",
   "execution_count": 4,
   "id": "ca9ae7dd-49a0-4538-ab49-cd869e3f9bc9",
   "metadata": {},
   "outputs": [
    {
     "name": "stdout",
     "output_type": "stream",
     "text": [
      "Worker thread started\n",
      "Thread count: 9\n",
      "Current thread: Thread-8 (worker)\n",
      "Thread list: [<_MainThread(MainThread, started 139857496581952)>, <Thread(IOPub, started daemon 139857355601472)>, <Heartbeat(Heartbeat, started daemon 139857347208768)>, <Thread(Thread-3 (_watch_pipe_fd), started daemon 139857322030656)>, <Thread(Thread-4 (_watch_pipe_fd), started daemon 139857313637952)>, <ControlThread(Control, started daemon 139857305245248)>, <HistorySavingThread(IPythonHistorySavingThread, started 139856952948288)>, <ParentPollerUnix(Thread-2, started daemon 139856944555584)>, <Thread(Thread-8 (worker), started 139856936162880)>]\n",
      "Main thread finished\n"
     ]
    },
    {
     "name": "stderr",
     "output_type": "stream",
     "text": [
      "/tmp/ipykernel_3521/3186485354.py:6: DeprecationWarning: activeCount() is deprecated, use active_count() instead\n",
      "  print(\"Thread count:\", threading.activeCount())\n",
      "/tmp/ipykernel_3521/3186485354.py:7: DeprecationWarning: currentThread() is deprecated, use current_thread() instead\n",
      "  print(\"Current thread:\", threading.currentThread().getName())\n",
      "/tmp/ipykernel_3521/3186485354.py:7: DeprecationWarning: getName() is deprecated, get the name attribute instead\n",
      "  print(\"Current thread:\", threading.currentThread().getName())\n"
     ]
    }
   ],
   "source": [
    "import threading\n",
    "\n",
    "def worker():\n",
    "    \"\"\"Function that will run in a separate thread\"\"\"\n",
    "    print(\"Worker thread started\")\n",
    "    print(\"Thread count:\", threading.activeCount())\n",
    "    print(\"Current thread:\", threading.currentThread().getName())\n",
    "    threads = threading.enumerate()\n",
    "    print(\"Thread list:\", threads)\n",
    "\n",
    "# Create a new thread\n",
    "t = threading.Thread(target=worker)\n",
    "\n",
    "# Start the thread\n",
    "t.start()\n",
    "\n",
    "# Wait for the thread to finish\n",
    "t.join()\n",
    "\n",
    "print(\"Main thread finished\")"
   ]
  },
  {
   "cell_type": "markdown",
   "id": "cd942a77-20d5-479a-ad7c-e3b2a415e470",
   "metadata": {},
   "source": [
    "#### Q3. Explain the following functions\n",
    "1. run()\n",
    "2. start()\n",
    "3. join()\n",
    "4. isAlive() \n",
    "\n",
    "In Python's threading module, the following functions are commonly used to manage threads:\n",
    "\n",
    "run(): This method defines the code that will be executed in a separate thread. It is called when the thread is started using the start() method.\n",
    "\n",
    "start(): This method starts a new thread and calls the run() method in the new thread. The code inside the run() method will execute in a separate thread concurrently with the main program.\n",
    "\n",
    "join(): This method blocks the main thread until the thread it is called on has finished executing. It is used to wait for the thread to finish before continuing with the rest of the program.\n",
    "\n",
    "isAlive(): This method returns True if the thread is currently running and False otherwise. It can be used to check the status of a thread and determine if it has finished executing.\n",
    "\n",
    "Below shwon example that demonstrates the use of these methods:\n",
    "In this example, we define a new thread class called MyThread that overrides the run() method to define the code that will be executed in a separate thread. We then create a new instance of this thread class and start it using the start() method. We wait for the thread to finish using the join() method before printing \"Main thread finished\". Finally, inside the run() method, we print \"Thread started\", iterate through a loop, and print \"Thread finished\". This demonstrates the basic use of the run(), start(), join(), and isAlive() methods in Python's threading module."
   ]
  },
  {
   "cell_type": "code",
   "execution_count": 5,
   "id": "1077f60a-9d46-4b50-a605-4b07beb1ed9d",
   "metadata": {},
   "outputs": [
    {
     "name": "stdout",
     "output_type": "stream",
     "text": [
      "Thread started\n",
      "Iteration 0\n",
      "Iteration 1\n",
      "Iteration 2\n",
      "Iteration 3\n",
      "Iteration 4\n",
      "Thread finished\n",
      "Main thread finished\n"
     ]
    }
   ],
   "source": [
    "import threading\n",
    "\n",
    "class MyThread(threading.Thread):\n",
    "    def run(self):\n",
    "        \"\"\"Code that will be executed in a separate thread\"\"\"\n",
    "        print(\"Thread started\")\n",
    "        for i in range(5):\n",
    "            print(\"Iteration\", i)\n",
    "        print(\"Thread finished\")\n",
    "\n",
    "# Create a new thread\n",
    "t = MyThread()\n",
    "\n",
    "# Start the thread\n",
    "t.start()\n",
    "\n",
    "# Wait for the thread to finish\n",
    "t.join()\n",
    "\n",
    "print(\"Main thread finished\")"
   ]
  },
  {
   "cell_type": "markdown",
   "id": "984ab729-59f7-4d47-acfd-1d821e9c63d3",
   "metadata": {},
   "source": [
    "#### Q4. Write a python program to create two threads. Thread one must print the list of squares and thread two must print the list of cubes.\n",
    "\n",
    "In this program, we define two functions print_squares and print_cubes that print the squares and cubes of the numbers 1 to 10, respectively. We then create two threads using the threading.Thread class and assign each thread a target function (print_squares and print_cubes). Finally, we start both threads using the start method and wait for them to finish using the join method. \n"
   ]
  },
  {
   "cell_type": "code",
   "execution_count": 1,
   "id": "67812a6a-9695-48c0-ad83-99f3505f91b1",
   "metadata": {},
   "outputs": [
    {
     "name": "stdout",
     "output_type": "stream",
     "text": [
      "Square of 1 is 1\n",
      "Square of 2 is 4\n",
      "Square of 3 is 9\n",
      "Square of 4 is 16\n",
      "Square of 5 is 25\n",
      "Square of 6 is 36\n",
      "Square of 7 is 49\n",
      "Square of 8 is 64\n",
      "Square of 9 is 81\n",
      "Square of 10 is 100\n",
      "Cube of 1 is 1\n",
      "Cube of 2 is 8\n",
      "Cube of 3 is 27\n",
      "Cube of 4 is 64\n",
      "Cube of 5 is 125\n",
      "Cube of 6 is 216\n",
      "Cube of 7 is 343\n",
      "Cube of 8 is 512\n",
      "Cube of 9 is 729\n",
      "Cube of 10 is 1000\n"
     ]
    }
   ],
   "source": [
    "import threading\n",
    "\n",
    "def print_squares():\n",
    "    for i in range(1, 11):\n",
    "        print(f\"Square of {i} is {i*i}\")\n",
    "\n",
    "def print_cubes():\n",
    "    for i in range(1, 11):\n",
    "        print(f\"Cube of {i} is {i*i*i}\")\n",
    "\n",
    "# create two threads\n",
    "thread1 = threading.Thread(target=print_squares)\n",
    "thread2 = threading.Thread(target=print_cubes)\n",
    "\n",
    "# start both threads\n",
    "thread1.start()\n",
    "thread2.start()\n",
    "\n",
    "# wait for both threads to finish\n",
    "thread1.join()\n",
    "thread2.join()"
   ]
  },
  {
   "cell_type": "markdown",
   "id": "9d1d6e91-99fd-44a8-9803-5663cb25bd9b",
   "metadata": {},
   "source": [
    "#### Q5. State advantages and disadvantages of multithreading.\n",
    "\n",
    "Multithreading is a technique where multiple threads of execution run concurrently within a single process. Here are some advantages and disadvantages of multithreading:\n",
    "\n",
    "Advantages:\n",
    "\n",
    "Increased Performance: Multithreading allows multiple parts of a program to run concurrently. This can result in faster execution times, as different threads can perform different tasks simultaneously.\n",
    "\n",
    "Better Resource Utilization: Multithreading can make better use of system resources like CPU and memory by allowing multiple tasks to be performed concurrently.\n",
    "\n",
    "Responsiveness: By using multithreading, a program can remain responsive even while executing long-running tasks. For example, a user interface can remain responsive while a background thread performs a computation.\n",
    "\n",
    "Modularity: Multithreading can make it easier to write modular and reusable code, as different parts of a program can run concurrently.\n",
    "\n",
    "Disadvantages:\n",
    "\n",
    "Synchronization: Multithreading requires synchronization of shared resources to avoid conflicts and ensure data consistency. This can add complexity to a program and increase the likelihood of errors.\n",
    "\n",
    "Race conditions: If multiple threads access and modify the same data simultaneously, a race condition can occur, resulting in unpredictable behavior.\n",
    "\n",
    "Overhead: Creating and managing threads can add overhead to a program, which can reduce its overall performance.\n",
    "\n",
    "Deadlocks: A deadlock can occur when two or more threads wait indefinitely for each other to release resources, resulting in a program that is stuck and cannot continue execution.\n",
    "\n",
    "Overall, multithreading can be a powerful tool for improving the performance and responsiveness of programs, but it also requires careful design and management to avoid potential issues like synchronization problems and race conditions."
   ]
  },
  {
   "cell_type": "markdown",
   "id": "82cc002d-90a3-4439-920b-2035fd4b30f2",
   "metadata": {},
   "source": [
    "Q6. Explain deadlocks and race conditions.\n",
    "\n",
    "Deadlocks and race conditions are two common problems that can occur in multithreaded programs.\n",
    "\n",
    "Deadlocks occur when two or more threads are blocked and unable to proceed because they are waiting for each other to release resources. This can happen when multiple threads require exclusive access to shared resources like data structures, locks, or system resources. If a thread holds a resource and is waiting for another resource that is held by another thread, a deadlock can occur. Deadlocks can cause a program to become unresponsive and require intervention from the user or operating system to terminate the program.\n",
    "\n",
    "A simple example of a deadlock is the \"dining philosophers\" problem, where a group of philosophers sit around a table with a bowl of rice and a chopstick between each pair of philosophers. Each philosopher needs two chopsticks to eat, but if they all try to pick up the same chopstick at the same time, a deadlock can occur where each philosopher is waiting for the other to release the chopstick they need.\n",
    "\n",
    "Race conditions occur when multiple threads access and modify shared data concurrently without proper synchronization. This can result in unpredictable behavior because the order of execution is not guaranteed. If multiple threads access and modify the same data simultaneously, the final value of that data can depend on the order in which the threads execute. Race conditions can cause a program to produce incorrect results or crash unexpectedly.\n",
    "\n",
    "A simple example of a race condition is a bank account balance that is accessed and modified by multiple threads concurrently. If two threads try to withdraw money from the account at the same time, the final balance can depend on the order in which the threads execute, leading to incorrect results.\n",
    "\n",
    "To prevent deadlocks and race conditions, multithreaded programs must use proper synchronization mechanisms like locks, semaphores, or monitors to ensure that shared resources are accessed and modified safely and consistently."
   ]
  }
 ],
 "metadata": {
  "kernelspec": {
   "display_name": "Python 3 (ipykernel)",
   "language": "python",
   "name": "python3"
  },
  "language_info": {
   "codemirror_mode": {
    "name": "ipython",
    "version": 3
   },
   "file_extension": ".py",
   "mimetype": "text/x-python",
   "name": "python",
   "nbconvert_exporter": "python",
   "pygments_lexer": "ipython3",
   "version": "3.10.8"
  }
 },
 "nbformat": 4,
 "nbformat_minor": 5
}
