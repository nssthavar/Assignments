{
 "cells": [
  {
   "cell_type": "markdown",
   "id": "f1bbcc16-ade2-4b79-9984-1876e66f223d",
   "metadata": {},
   "source": [
    "#### Q1. Explain why we have to use the Exception class while creating a Custom Exception.\n",
    "Note: Here Exception class refers to the base class for all the exceptions.\n",
    "\n",
    "The Exception class is used as the base class for all custom exception classes in Python. This is because the Exception class provides a standard set of attributes and methods that are useful for handling and communicating exceptions in a consistent way.\n",
    "\n",
    "When we create a custom exception class, we want it to have some common functionality with other exception classes, such as the ability to capture a message or traceback associated with the exception. By inheriting from the Exception class, we can access these methods and attributes and add our own custom behavior to the exception class.\n",
    "\n",
    "Additionally, using the Exception class as the base class for our custom exception classes ensures that our exceptions will be compatible with the built-in exception handling mechanisms in Python. This means that they can be caught and handled in the same way as other exceptions, using try/except blocks and other exception handling techniques.\n",
    "\n",
    "Overall, using the Exception class as the base class for our custom exceptions helps us to create exceptions that are consistent, compatible, and effective for communicating errors and exceptions in our Python programs."
   ]
  },
  {
   "cell_type": "markdown",
   "id": "d612cd0b-6f59-4342-9cb0-b1c521715307",
   "metadata": {},
   "source": [
    "#### Q2. Write a python program to print Python Exception Hierarchy.\n",
    "\n",
    "Here's a Python program that prints the Python Exception Hierarchy using the built-in Exception class:\n",
    "\n",
    "This program defines a function called print_exception_hierarchy that takes an exception class and an optional indentation level as arguments. The function prints the name of the exception class with the specified indentation level, and then recursively prints the names of its base classes with additional indentation.\n",
    "\n",
    "To print the entire Python Exception Hierarchy, we call the print_exception_hierarchy function with the base Exception class as the argument. This will print the names of all the built-in exception classes in Python, along with their base classes, in a hierarchical format."
   ]
  },
  {
   "cell_type": "code",
   "execution_count": 1,
   "id": "7e7f4037-7ee1-4295-b12d-76d5487a5178",
   "metadata": {},
   "outputs": [
    {
     "name": "stdout",
     "output_type": "stream",
     "text": [
      "Exception\n",
      "  BaseException\n",
      "    object\n"
     ]
    }
   ],
   "source": [
    "# Define a function to print the exception hierarchy\n",
    "def print_exception_hierarchy(exception_class, indent=0):\n",
    "    # Print the class name and its base classes with appropriate indentation\n",
    "    print(\" \" * indent + exception_class.__name__)\n",
    "    for base_class in exception_class.__bases__:\n",
    "        print_exception_hierarchy(base_class, indent + 2)\n",
    "\n",
    "# Call the function with the base Exception class\n",
    "print_exception_hierarchy(Exception)"
   ]
  },
  {
   "cell_type": "markdown",
   "id": "6a2952b4-9517-418f-8cef-5be851f2b3b7",
   "metadata": {},
   "source": [
    "#### Q3. What errors are defined in the ArithmeticError class? Explain any two with an example.\n",
    "\n",
    "The ArithmeticError class is a built-in exception class in Python that serves as the base class for all errors that occur during arithmetic operations. Some of the specific errors that are defined in this class include ZeroDivisionError, OverflowError, and FloatingPointError, among others.\n",
    "\n",
    "Here are two examples of specific errors that are defined in the ArithmeticError class:\n",
    "\n",
    "1. ZeroDivisionError: This error occurs when an attempt is made to divide a number by zero. For example:"
   ]
  },
  {
   "cell_type": "code",
   "execution_count": null,
   "id": "b694d147-57d3-4c07-ba22-367a91c136f2",
   "metadata": {},
   "outputs": [],
   "source": [
    "# Divide by zero error\n",
    ">>> 1 / 0\n",
    "Traceback (most recent call last):\n",
    "  File \"<stdin>\", line 1, in <module>\n",
    "ZeroDivisionError: division by zero"
   ]
  },
  {
   "cell_type": "markdown",
   "id": "182e6f01-73af-4bb9-bb6d-774e236f143f",
   "metadata": {},
   "source": [
    "#### \n",
    "OverflowError: This error occurs when a calculation exceeds the maximum representable value for a numeric type. For example:"
   ]
  },
  {
   "cell_type": "code",
   "execution_count": null,
   "id": "5f92a35c-636a-41b0-bbee-51b0e742a7da",
   "metadata": {},
   "outputs": [],
   "source": [
    "# Overflow error\n",
    ">>> import sys\n",
    ">>> sys.maxsize * 2\n",
    "Traceback (most recent call last):\n",
    "  File \"<stdin>\", line 1, in <module>\n",
    "OverflowError: Python int too large to convert to C long"
   ]
  },
  {
   "cell_type": "markdown",
   "id": "20e8632d-f4a8-4de5-9b2b-fbbc148928e8",
   "metadata": {},
   "source": [
    "####\n",
    "In this example, we attempt to multiply sys.maxsize (which is the maximum value that can be represented by an integer on the current platform) by 2. However, the resulting value exceeds the maximum representable value for a long type on the underlying C platform, resulting in an OverflowError."
   ]
  },
  {
   "cell_type": "markdown",
   "id": "39d7dec7-2036-4b75-aae9-6eedb6903a99",
   "metadata": {},
   "source": [
    "#### Q4. Why LookupError class is used? Explain with an example KeyError and IndexError.\n",
    "\n",
    "The LookupError class is a built-in exception class in Python that serves as the base class for all errors that occur when trying to access a non-existent item. This includes errors that occur when looking up keys in dictionaries, accessing elements in sequences (e.g. lists, tuples, strings), and accessing attributes of objects.\n",
    "\n",
    "Here are two examples of specific errors that are derived from the LookupError class:\n",
    "\n",
    "1. KeyError: This error occurs when trying to access a dictionary key that does not exist.\n",
    "In this example, we try to access the key 'orange' in the my_dict dictionary, but this key does not exist. This raises a KeyError exception.\n",
    "\n",
    "2. IndexError: This error occurs when trying to access a sequence element that does not exist.\n",
    "In this example, we try to access the fourth element of the my_list list using an index of 3. However, my_list only has three elements, so this raises an IndexError exception.\n",
    "\n",
    "Overall, the LookupError class is useful for handling errors that occur when trying to access non-existent items in data structures. By catching and handling these exceptions in a meaningful way, we can write more robust and reliable Python programs."
   ]
  },
  {
   "cell_type": "code",
   "execution_count": null,
   "id": "c0720dd7-3458-4a25-af6b-30d8eb0b9182",
   "metadata": {},
   "outputs": [],
   "source": [
    "# KeyError example\n",
    ">>> my_dict = {'apple': 1, 'banana': 2}\n",
    ">>> my_dict['orange']\n",
    "Traceback (most recent call last):\n",
    "  File \"<stdin>\", line 1, in <module>\n",
    "KeyError: 'orange'"
   ]
  },
  {
   "cell_type": "code",
   "execution_count": null,
   "id": "74198680-d99f-48a6-81f8-ea85e9c5c681",
   "metadata": {},
   "outputs": [],
   "source": [
    "# IndexError example\n",
    ">>> my_list = [1, 2, 3]\n",
    ">>> my_list[3]\n",
    "Traceback (most recent call last):\n",
    "  File \"<stdin>\", line 1, in <module>\n",
    "IndexError: list index out of range"
   ]
  },
  {
   "cell_type": "markdown",
   "id": "50c06c82-fb21-48ed-a024-877e4d5078ed",
   "metadata": {
    "tags": []
   },
   "source": [
    "#### Q5. Explain ImportError. What is ModuleNotFoundError?\n",
    "\n",
    "ImportError is a built-in exception class in Python that occurs when there is an error while importing a module. This can happen if the requested module cannot be found, if there is a problem with the module's code or dependencies, or if there is a problem with the import statement itself.\n",
    "\n",
    "In this example, we try to import a module called non_existent_module. Since this module does not exist, Python raises an ImportError with the message No module named 'non_existent_module'.\n",
    "\n",
    "Starting with Python 3.6, there is a more specific exception class called ModuleNotFoundError that is raised when a module cannot be found. This exception is a subclass of ImportError and provides a more specific error message.\n",
    "\n",
    "In this example, we try to import a module called non_existent_module. Since this module does not exist, Python raises a ModuleNotFoundError with the message No module named 'non_existent_module'.\n",
    "\n",
    "Overall, both ImportError and ModuleNotFoundError are useful for handling errors that occur while importing modules in Python. By catching and handling these exceptions in a meaningful way, we can write more robust and reliable Python programs."
   ]
  },
  {
   "cell_type": "code",
   "execution_count": null,
   "id": "bffdad6f-7a6f-45ab-9c41-0c50e86a74af",
   "metadata": {},
   "outputs": [],
   "source": [
    "# ImportError example\n",
    ">>> import non_existent_module\n",
    "Traceback (most recent call last):\n",
    "  File \"<stdin>\", line 1, in <module>\n",
    "ModuleNotFoundError: No module named 'non_existent_module'"
   ]
  },
  {
   "cell_type": "code",
   "execution_count": null,
   "id": "7215656e-b860-4796-b4b4-2e348662d6b9",
   "metadata": {},
   "outputs": [],
   "source": [
    "# ModuleNotFoundError example\n",
    ">>> import non_existent_module\n",
    "Traceback (most recent call last):\n",
    "  File \"<stdin>\", line 1, in <module>\n",
    "ModuleNotFoundError: No module named 'non_existent_module'"
   ]
  },
  {
   "cell_type": "markdown",
   "id": "85de0590-6287-4d6d-96bf-495b845cfea9",
   "metadata": {},
   "source": [
    "#### Q6. List down some best practices for exception handling in python.\n",
    "\n",
    "Here are some best practices for exception handling in Python:\n",
    "\n",
    "1. Use specific exception types: When possible, use specific exception types rather than the more general Exception class. This allows for more fine-grained error handling and can make your code more readable and maintainable.\n",
    "\n",
    "2. Handle exceptions gracefully: When an exception occurs, handle it gracefully by providing helpful error messages and taking appropriate actions (such as logging the error, retrying the operation, or failing gracefully). Don't let exceptions propagate up to the user without proper handling.\n",
    "\n",
    "3. Don't catch exceptions blindly: Avoid catching exceptions blindly without understanding the root cause of the exception. This can mask errors and make debugging more difficult.\n",
    "\n",
    "4. Keep exception handling code separate: Keep exception handling code separate from the main code logic. This makes it easier to understand and maintain the code.\n",
    "\n",
    "5. Use the finally block for cleanup code: Use the finally block to execute cleanup code (such as closing files or database connections) regardless of whether an exception occurs or not.\n",
    "\n",
    "6. Avoid catching KeyboardInterrupt: Avoid catching KeyboardInterrupt exceptions (raised when the user hits Ctrl+C) as it can prevent the user from stopping the program.\n",
    "\n",
    "7. Use context managers: Use context managers (such as the with statement) to ensure that resources are properly acquired and released, even in the presence of exceptions.\n",
    "\n",
    "8. Use assert statements for debugging: Use assert statements to check for conditions that should always hold true. This can help catch bugs early in the development process.\n",
    "\n",
    "Overall, following these best practices can help ensure that your Python code is robust, reliable, and maintainable."
   ]
  }
 ],
 "metadata": {
  "kernelspec": {
   "display_name": "Python 3 (ipykernel)",
   "language": "python",
   "name": "python3"
  },
  "language_info": {
   "codemirror_mode": {
    "name": "ipython",
    "version": 3
   },
   "file_extension": ".py",
   "mimetype": "text/x-python",
   "name": "python",
   "nbconvert_exporter": "python",
   "pygments_lexer": "ipython3",
   "version": "3.10.8"
  }
 },
 "nbformat": 4,
 "nbformat_minor": 5
}
