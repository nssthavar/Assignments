{
 "cells": [
  {
   "cell_type": "markdown",
   "id": "8aab6a19-2c5a-4c15-b5b2-ba35cc454267",
   "metadata": {},
   "source": [
    "#### Q1. What is multiprocessing in python? Why is it useful?\n",
    "\n",
    "Multiprocessing is a Python module that allows the execution of multiple processes in parallel, using multiple CPUs or CPU cores, to increase the overall performance of a program. Unlike multithreading, which uses multiple threads within a single process, multiprocessing uses multiple processes, each with its own memory space and resources.\n",
    "\n",
    "Multiprocessing is useful for tasks that can be split into smaller, independent subtasks that can be executed concurrently. By using multiple processes, each with its own memory space and resources, multiprocessing can take advantage of multiple CPUs or CPU cores to improve the performance of the program. Multiprocessing can be especially useful for CPU-bound tasks like scientific computing, data analysis, and machine learning, where the execution time can be significantly reduced by parallelizing the computations.\n",
    "\n",
    "Multiprocessing also has the advantage of being more robust and less prone to issues like race conditions and deadlocks compared to multithreading, since each process has its own memory space and resources. This can make it easier to write correct and reliable parallel code.\n",
    "\n",
    "The multiprocessing module in Python provides a simple and flexible interface for creating and managing multiple processes, including process pools, inter-process communication mechanisms, and synchronization primitives. This makes it relatively easy to parallelize existing Python code and take advantage of multiple CPUs or CPU cores.\n",
    "\n",
    "In summary, multiprocessing in Python is a powerful technique for improving the performance of programs by using multiple processes to execute independent subtasks in parallel. It is particularly useful for CPU-bound tasks and can provide better reliability and robustness compared to multithreading.\n"
   ]
  },
  {
   "cell_type": "markdown",
   "id": "c65a08b3-4470-4582-b70a-2655fa1e5890",
   "metadata": {},
   "source": [
    "#### Q2. What are the differences between multiprocessing and multithreading?\n",
    "\n",
    "Multiprocessing and multithreading are two techniques used in concurrent programming to improve the performance of programs. While they both involve running multiple tasks concurrently, there are some significant differences between the two.\n",
    "\n",
    "1. Architecture: Multiprocessing uses multiple processes, each with its own memory space and resources, while multithreading uses multiple threads within a single process, sharing the same memory space and resources.\n",
    "\n",
    "2. Performance: Multiprocessing can take advantage of multiple CPUs or CPU cores to improve performance, while multithreading is limited by the availability of a single CPU or CPU core.\n",
    "\n",
    "3. Memory usage: Multiprocessing requires more memory than multithreading, since each process has its own memory space, while multithreading shares the same memory space.\n",
    "\n",
    "4. Overhead: Multiprocessing has higher overhead than multithreading, since creating and managing multiple processes requires more resources and time than creating and managing multiple threads.\n",
    "\n",
    "5. Reliability: Multiprocessing is more reliable than multithreading, since each process has its own memory space and resources, reducing the likelihood of issues like race conditions and deadlocks.\n",
    "\n",
    "6. Programming model: The programming model for multiprocessing is based on separate processes communicating with each other, while the programming model for multithreading is based on threads sharing memory and resources.\n",
    "\n",
    "In summary, multiprocessing and multithreading are two different techniques for concurrent programming with different trade-offs in terms of performance, memory usage, overhead, reliability, and programming model. Multiprocessing can be more efficient for CPU-bound tasks that can be split into independent subtasks, while multithreading can be more efficient for I/O-bound tasks that require frequent context switching."
   ]
  },
  {
   "cell_type": "markdown",
   "id": "4a0b1cdd-0bb3-469a-9d44-682a973d345f",
   "metadata": {},
   "source": [
    "#### Q3. Write a python code to create a process using the multiprocessing module.\n",
    "\n",
    "In this code, the worker function is defined as the function to be executed in the child process. The multiprocessing.Process class is used to create a new process with the target argument set to the worker function.\n",
    "\n",
    "The start method is called to start the child process, and the join method is called to wait for the child process to finish before continuing with the parent process.\n",
    "\n",
    "The if __name__ == '__main__' block is used to ensure that the code is only executed when the script is run as the main program, and not when it is imported as a module."
   ]
  },
  {
   "cell_type": "code",
   "execution_count": 1,
   "id": "6ba8b4df-1fd8-4723-b065-45c9c216f61d",
   "metadata": {},
   "outputs": [
    {
     "name": "stdout",
     "output_type": "stream",
     "text": [
      "Worker process started\n",
      "Worker process finished\n",
      "Parent process finished\n"
     ]
    }
   ],
   "source": [
    "import multiprocessing\n",
    "\n",
    "def worker():\n",
    "    \"\"\"Function to be executed in the child process.\"\"\"\n",
    "    print(\"Worker process started\")\n",
    "    # Do some work here...\n",
    "    print(\"Worker process finished\")\n",
    "\n",
    "if __name__ == '__main__':\n",
    "    # Create a new process\n",
    "    p = multiprocessing.Process(target=worker)\n",
    "    # Start the process\n",
    "    p.start()\n",
    "    # Wait for the process to finish\n",
    "    p.join()\n",
    "    print(\"Parent process finished\")"
   ]
  },
  {
   "cell_type": "markdown",
   "id": "b0a472b6-2ccf-4b43-9dab-456dd5f48865",
   "metadata": {},
   "source": [
    "#### Q4. What is a multiprocessing pool in python? Why is it used?\n",
    "\n",
    "In Python's multiprocessing module, a pool is a way to manage a group of worker processes that can be used to execute a set of tasks in parallel. The pool provides a simple and convenient way to parallelize the execution of a function across multiple inputs or data sets.\n",
    "\n",
    "When a pool is created, a specified number of worker processes are created in the background, which are then available to execute tasks submitted to the pool. The pool handles the distribution of tasks to the available worker processes, and returns the results of each task as they are completed.\n",
    "\n",
    "The pool is used for parallel execution of a function across a large number of inputs or data sets. It can be used to improve the performance of CPU-bound tasks like scientific computing, data analysis, and machine learning, by taking advantage of multiple CPUs or CPU cores.\n",
    "\n",
    "The pool is particularly useful when there is a large number of independent tasks that need to be executed, and the results can be combined at the end. By using a pool, the tasks can be executed in parallel, which can significantly reduce the execution time of the program.\n",
    "\n",
    "Below is an example code that demonstrates how to use a pool to execute a function in parallel on a list of inputs:\n",
    "\n",
    "In this example, the square function takes an input x and returns its square. The multiprocessing.Pool class is used to create a pool of 4 worker processes. The map method of the pool is used to apply the square function to each element in the inputs list in parallel. The results variable contains the results of each task executed in the pool.\n",
    "\n",
    "Finally, the pool is closed and the join method is called to wait for all the worker processes to finish before exiting the program.\n",
    "\n",
    "This code demonstrates how a pool can be used to parallelize the execution of a function on a set of inputs, improving the performance of the program."
   ]
  },
  {
   "cell_type": "code",
   "execution_count": 3,
   "id": "33e9e770-1be9-4b45-bb2d-62dbbc5f4260",
   "metadata": {},
   "outputs": [
    {
     "name": "stdout",
     "output_type": "stream",
     "text": [
      "[1, 4, 9, 16, 25]\n"
     ]
    }
   ],
   "source": [
    "import multiprocessing\n",
    "\n",
    "def square(x):\n",
    "    \"\"\"Function to be executed in parallel.\"\"\"\n",
    "    return x**2\n",
    "\n",
    "if __name__ == '__main__':\n",
    "    # Create a pool with 4 worker processes\n",
    "    pool = multiprocessing.Pool(4)\n",
    "    # Define a list of inputs\n",
    "    inputs = [1, 2, 3, 4, 5]\n",
    "    # Apply the function to the inputs in parallel\n",
    "    results = pool.map(square, inputs)\n",
    "    # Print the results\n",
    "    print(results)\n",
    "    # Close the pool and wait for all the worker processes to finish\n",
    "    pool.close()\n",
    "    pool.join()"
   ]
  },
  {
   "cell_type": "markdown",
   "id": "31f92f5e-dca4-42bc-8768-d91682656da0",
   "metadata": {},
   "source": [
    "#### Q5. How can we create a pool of worker processes in python using the multiprocessing module?\n",
    "\n",
    "In Python's multiprocessing module, a pool of worker processes can be created using the Pool class. Below is an example of how to create a pool of worker processes:\n",
    "\n",
    "In this example, we define a function my_function that takes one argument and returns a result. We then create a pool of worker processes with 4 workers using the Pool class. We define a list of arguments args to pass to the function and then use the map method of the pool to apply the function to each argument in parallel. The map method returns a list of results in the order that the arguments were passed.\n",
    "\n",
    "The with statement is used here as a context manager to automatically close the pool when the program exits the context. Alternatively, we can explicitly close the pool and call the join method to wait for all the worker processes to finish.\n",
    "\n",
    "This code demonstrates how to create a pool of worker processes and use it to parallelize the execution of a function on a set of arguments."
   ]
  },
  {
   "cell_type": "code",
   "execution_count": 13,
   "id": "45c3fa90-048d-4650-8284-93eecaca9309",
   "metadata": {},
   "outputs": [
    {
     "name": "stdout",
     "output_type": "stream",
     "text": [
      "[1, 8, 27, 64, 125]\n"
     ]
    }
   ],
   "source": [
    "import multiprocessing\n",
    "\n",
    "def my_function(arg):\n",
    "    # Do some work here...\n",
    "    result = arg**3\n",
    "    return result\n",
    "\n",
    "if __name__ == '__main__':\n",
    "    # Create a pool of worker processes with 4 workers\n",
    "    with multiprocessing.Pool(processes=4) as pool:\n",
    "        # Define the arguments for the function\n",
    "        args = [1, 2, 3, 4, 5]\n",
    "        # Map the function to the arguments using the pool\n",
    "        result = pool.map(my_function, args)\n",
    "    # Print the results\n",
    "    print(result)"
   ]
  },
  {
   "cell_type": "markdown",
   "id": "77d78165-1ddf-4970-aa02-28529f840e89",
   "metadata": {},
   "source": [
    "#### Q6. Write a python program to create 4 processes, each process should print a different number using the multiprocessing module in python.\n",
    "\n",
    "Below is an example Python program that creates 4 processes, each process printing a different number using the multiprocessing module:\n",
    "\n",
    "In this example, we define a function print_number that takes a number as an argument and prints it to the console. We create a list of numbers and then loop over the list, creating a process for each number using the multiprocessing.Process class. We pass the print_number function as the target for each process, along with the corresponding number as an argument.\n",
    "\n",
    "After creating each process, we append it to a list of processes and start the process using the start method. We then loop over the list of processes and call the join method for each process, which waits for the process to finish before continuing.\n",
    "\n",
    "When we run this program, we will see that each process prints a different number to the console, demonstrating how multiprocessing can be used to execute multiple tasks in parallel."
   ]
  },
  {
   "cell_type": "code",
   "execution_count": 14,
   "id": "0f673c4b-16be-4664-b309-ef130d3be38e",
   "metadata": {},
   "outputs": [
    {
     "name": "stdout",
     "output_type": "stream",
     "text": [
      "1\n",
      "2\n",
      "3\n",
      "4\n"
     ]
    }
   ],
   "source": [
    "import multiprocessing\n",
    "\n",
    "def print_number(num):\n",
    "    \"\"\"Function to print a number.\"\"\"\n",
    "    print(num)\n",
    "\n",
    "if __name__ == '__main__':\n",
    "    # Create a list of numbers\n",
    "    numbers = [1, 2, 3, 4]\n",
    "    # Create a process for each number in the list\n",
    "    processes = []\n",
    "    for num in numbers:\n",
    "        p = multiprocessing.Process(target=print_number, args=(num,))\n",
    "        processes.append(p)\n",
    "        p.start()\n",
    "    # Wait for all processes to finish\n",
    "    for p in processes:\n",
    "        p.join()"
   ]
  }
 ],
 "metadata": {
  "kernelspec": {
   "display_name": "Python 3 (ipykernel)",
   "language": "python",
   "name": "python3"
  },
  "language_info": {
   "codemirror_mode": {
    "name": "ipython",
    "version": 3
   },
   "file_extension": ".py",
   "mimetype": "text/x-python",
   "name": "python",
   "nbconvert_exporter": "python",
   "pygments_lexer": "ipython3",
   "version": "3.10.8"
  }
 },
 "nbformat": 4,
 "nbformat_minor": 5
}
