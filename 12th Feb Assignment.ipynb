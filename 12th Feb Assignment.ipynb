{
 "cells": [
  {
   "cell_type": "markdown",
   "id": "789ca1c8-51ac-4052-93a1-0fe6db8736e2",
   "metadata": {},
   "source": [
    "#### Q1. Wht is an Exception in pthon? Write the difference between Exceptions and Syntax errors.\n",
    "\n",
    "In Python, an exception is an error that occurs during the execution of a program. When an exception occurs, Python raises an exception object that contains information about the error. This allows the program to handle the error gracefully and continue running instead of crashing.\n",
    "\n",
    "Exceptions can be caused by a variety of reasons, such as trying to divide by zero, accessing an undefined variable, or attempting to open a file that doesn't exist. Some common types of exceptions in Python include TypeError, ValueError, IndexError, KeyError, and FileNotFoundError.\n",
    "\n",
    "Syntax errors, on the other hand, occur when the code violates the rules of the Python language. This can happen when there is a missing or extra symbol, a misspelled keyword, or a misplaced operator. Syntax errors prevent the program from running and must be fixed before the code can be executed.\n",
    "\n",
    "The key difference between exceptions and syntax errors is that exceptions occur during the execution of the code, while syntax errors occur during the parsing of the code. Exceptions can occur even in a syntactically correct program, while syntax errors cannot be caught by the program and must be fixed by the developer.\n",
    "\n",
    "In below example, the first line contains a syntax error because there is a missing closing parenthesis. This will cause a SyntaxError to be raised and prevent the program from running.\n",
    "\n",
    "The second line, however, is syntactically correct, but will raise a ZeroDivisionError when executed because it tries to divide by zero. This is an example of an exception that can occur during the execution of the program. To handle this exception, we can use a try/except block to catch the error and handle it gracefully."
   ]
  },
  {
   "cell_type": "code",
   "execution_count": 1,
   "id": "77ed0e83-681e-464c-ba6d-93edd7b1ce4b",
   "metadata": {},
   "outputs": [
    {
     "ename": "SyntaxError",
     "evalue": "'(' was never closed (1756158439.py, line 2)",
     "output_type": "error",
     "traceback": [
      "\u001b[0;36m  Cell \u001b[0;32mIn[1], line 2\u001b[0;36m\u001b[0m\n\u001b[0;31m    print(\"Hello, World!\"\u001b[0m\n\u001b[0m         ^\u001b[0m\n\u001b[0;31mSyntaxError\u001b[0m\u001b[0;31m:\u001b[0m '(' was never closed\n"
     ]
    }
   ],
   "source": [
    "# Syntax error - missing closing parenthesis\n",
    "print(\"Hello, World!\"\n",
    "\n",
    "# Exception - dividing by zero\n",
    "x = 1 / 0"
   ]
  },
  {
   "cell_type": "markdown",
   "id": "fa6d4226-02ce-451d-a2a7-8c4b6b07dacc",
   "metadata": {},
   "source": [
    "#### Q2. What happens when an exception is not handled? Explain with an example\n",
    "\n",
    "When an exception is not handled, it will cause the program to terminate abruptly with an error message. This can be problematic because it doesn't allow the program to recover from the error and continue running.\n",
    "\n",
    "In below example, we are trying to convert the string \"abc\" to an integer using the int() function. Since \"abc\" cannot be converted to an integer, a ValueError will be raised. We are using a try/except block to catch the error and print a message to the user.\n",
    "\n",
    "However, if we remove the try/except block, the program will terminate with an error message:"
   ]
  },
  {
   "cell_type": "code",
   "execution_count": 6,
   "id": "5c2a78e0-4655-4cbd-9bef-cdb077f6d881",
   "metadata": {},
   "outputs": [
    {
     "name": "stdout",
     "output_type": "stream",
     "text": [
      "Oops! Invalid input.\n"
     ]
    }
   ],
   "source": [
    "try:\n",
    "    x = int(\"abc\")\n",
    "except ValueError:\n",
    "    print(\"Oops! Invalid input.\")"
   ]
  },
  {
   "cell_type": "code",
   "execution_count": 7,
   "id": "642bd0eb-d508-4897-a011-565efcf13d9c",
   "metadata": {},
   "outputs": [
    {
     "ename": "ValueError",
     "evalue": "invalid literal for int() with base 10: 'abc'",
     "output_type": "error",
     "traceback": [
      "\u001b[0;31m---------------------------------------------------------------------------\u001b[0m",
      "\u001b[0;31mValueError\u001b[0m                                Traceback (most recent call last)",
      "Cell \u001b[0;32mIn[7], line 1\u001b[0m\n\u001b[0;32m----> 1\u001b[0m x \u001b[38;5;241m=\u001b[39m \u001b[38;5;28;43mint\u001b[39;49m\u001b[43m(\u001b[49m\u001b[38;5;124;43m\"\u001b[39;49m\u001b[38;5;124;43mabc\u001b[39;49m\u001b[38;5;124;43m\"\u001b[39;49m\u001b[43m)\u001b[49m\n",
      "\u001b[0;31mValueError\u001b[0m: invalid literal for int() with base 10: 'abc'"
     ]
    }
   ],
   "source": [
    "x = int(\"abc\")"
   ]
  },
  {
   "cell_type": "markdown",
   "id": "be1c6933-8703-4daf-a767-29faf57e874b",
   "metadata": {},
   "source": [
    "#### Q3. Which Python statements are used to catch and handle exceptions? Explain with an example\n",
    "\n",
    "In Python, the try, except, else, and finally statements are used to catch and handle exceptions.\n",
    "\n",
    "Here is an example that shows how these statements can be used:"
   ]
  },
  {
   "cell_type": "code",
   "execution_count": 12,
   "id": "4432c480-3e3c-4869-b75a-5f18bc3f7d22",
   "metadata": {},
   "outputs": [
    {
     "name": "stdin",
     "output_type": "stream",
     "text": [
      "Enter a number:  0\n",
      "Enter another number:  1\n"
     ]
    },
    {
     "name": "stdout",
     "output_type": "stream",
     "text": [
      "The result is: 0.0\n",
      "No exceptions occurred.\n",
      "This block of code will always execute.\n"
     ]
    }
   ],
   "source": [
    "try:\n",
    "    num1 = int(input(\"Enter a number: \"))\n",
    "    num2 = int(input(\"Enter another number: \"))\n",
    "    result = num1 / num2\n",
    "    print(\"The result is:\", result)\n",
    "except ValueError:\n",
    "    print(\"Please enter only numbers.\")\n",
    "except ZeroDivisionError:\n",
    "    print(\"Cannot divide by zero.\")\n",
    "else:\n",
    "    print(\"No exceptions occurred.\")\n",
    "finally:\n",
    "    print(\"This block of code will always execute.\")"
   ]
  },
  {
   "cell_type": "markdown",
   "id": "d36cc614-a20d-4515-9cf4-3d07bddf6d6a",
   "metadata": {},
   "source": [
    "In this example, the try block contains code that may raise exceptions. The except block(s) specify the exception(s) to catch and the corresponding code to execute when an exception occurs. In this case, there are two except blocks: one for ValueError and another for ZeroDivisionError. If either of these exceptions occurs during execution of the try block, the appropriate except block will be executed.\n",
    "\n",
    "The else block is executed if no exceptions occurred in the try block. The finally block is executed regardless of whether an exception occurred or not.\n",
    "\n",
    "Overall, these statements allow for more robust and fault-tolerant code, by providing a way to gracefully handle exceptions and prevent program crashes."
   ]
  },
  {
   "cell_type": "markdown",
   "id": "56a49712-d50b-4486-b8c9-c96384b0409b",
   "metadata": {},
   "source": [
    "#### Q4. Explain with an example:\n",
    "a. try amd else\n",
    "b. finally\n",
    "c. raise\n",
    "\n",
    "a. try and else:\n",
    "The try and else statements in Python allow us to specify code to be executed in case no exception occurs. The else block will be executed only if no exceptions are raised in the try block.\n",
    "\n",
    "b. finally:\n",
    "The finally statement in Python allows us to specify a block of code that will always be executed, regardless of whether an exception occurred or not. This is useful for releasing resources or cleaning up after code execution.\n",
    "\n",
    "c. raise:\n",
    "The raise statement in Python allows us to manually raise an exception. This is useful for testing code or for signaling specific errors in the program."
   ]
  },
  {
   "cell_type": "code",
   "execution_count": 13,
   "id": "1f0e25e7-4ff2-4be4-9562-6f4161c9abb4",
   "metadata": {},
   "outputs": [
    {
     "name": "stdin",
     "output_type": "stream",
     "text": [
      "Enter a number:  0\n",
      "Enter another number:  0\n"
     ]
    },
    {
     "name": "stdout",
     "output_type": "stream",
     "text": [
      "Cannot divide by zero.\n"
     ]
    }
   ],
   "source": [
    "try:\n",
    "    num1 = int(input(\"Enter a number: \"))\n",
    "    num2 = int(input(\"Enter another number: \"))\n",
    "    result = num1 / num2\n",
    "except ValueError:\n",
    "    print(\"Please enter only numbers.\")\n",
    "except ZeroDivisionError:\n",
    "    print(\"Cannot divide by zero.\")\n",
    "else:\n",
    "    print(\"The result is:\", result)"
   ]
  },
  {
   "cell_type": "code",
   "execution_count": 15,
   "id": "93f24636-9cdd-4b43-92f7-22cef418fa9f",
   "metadata": {},
   "outputs": [
    {
     "name": "stdout",
     "output_type": "stream",
     "text": [
      "File not found.\n"
     ]
    }
   ],
   "source": [
    "try:\n",
    "    file = open(\"example2.txt\", \"r\")\n",
    "    data = file.read()\n",
    "    print(data)\n",
    "except FileNotFoundError:\n",
    "    print(\"File not found.\")\n",
    "finally:\n",
    "    file.close()"
   ]
  },
  {
   "cell_type": "code",
   "execution_count": 18,
   "id": "6ad63abe-be16-4777-98e6-3295584a6af0",
   "metadata": {},
   "outputs": [
    {
     "name": "stdout",
     "output_type": "stream",
     "text": [
      "Cannot divide by zero.\n"
     ]
    }
   ],
   "source": [
    "def divide_numbers(num1, num2):\n",
    "    if num2 == 0:\n",
    "        raise ZeroDivisionError(\"Cannot divide by zero.\")\n",
    "    else:\n",
    "        return num1 / num2\n",
    "\n",
    "try:\n",
    "    result = divide_numbers(10, 0)\n",
    "except ZeroDivisionError as e:\n",
    "    print(e)"
   ]
  },
  {
   "cell_type": "markdown",
   "id": "18bb2618-e3bd-473b-8650-141ec33a434b",
   "metadata": {},
   "source": [
    "#### Q5. What are Custom Exceptions in python? Why do we need Custom Exceptions? Explain with an example\n",
    "\n",
    "Custom exceptions in Python are user-defined exceptions that can be raised when specific conditions or errors occur in a program.\n",
    "\n",
    "We need custom exceptions to handle specific types of errors that are not covered by the built-in exceptions provided by Python. By defining our own custom exceptions, we can provide more detailed information about the error and make our code more readable and maintainable.\n",
    "\n",
    "Here is an example that demonstrates how to define and use a custom exception in Python:\n",
    "\n",
    "In this example, we have defined a custom exception called NegativeNumberError. This exception is raised when the calculate_square_root function is called with a negative number as input.\n",
    "\n",
    "If the input is negative, the function raises a NegativeNumberError with a message indicating that the square root of a negative number cannot be calculated. The try block catches the exception and prints the error message.\n",
    "\n",
    "By using custom exceptions, we can provide more specific and informative error messages that make it easier to debug and maintain our code."
   ]
  },
  {
   "cell_type": "code",
   "execution_count": 23,
   "id": "da9224f1-5ba2-4fdf-9c15-868930c7aa18",
   "metadata": {},
   "outputs": [
    {
     "name": "stdout",
     "output_type": "stream",
     "text": [
      "Cannot calculate square root of a negative number.\n"
     ]
    }
   ],
   "source": [
    "class NegativeNumberError(Exception):\n",
    "    def __init__(self, message):\n",
    "        self.message = message\n",
    "\n",
    "def calculate_square_root(num):\n",
    "    if num < 0:\n",
    "        raise NegativeNumberError(\"Cannot calculate square root of a negative number.\")\n",
    "    else:\n",
    "        return num ** 0.5\n",
    "\n",
    "try:\n",
    "    result = calculate_square_root(-9)\n",
    "except NegativeNumberError as e:\n",
    "    print(e.message)"
   ]
  },
  {
   "cell_type": "markdown",
   "id": "02758d82-2ad8-4c2a-859f-660558b04460",
   "metadata": {},
   "source": [
    "#### Q6. Create a custom exception class. Use this class to handle an exception.\n",
    "\n",
    "In this example, we have defined a custom exception class called NegativeNumberError. This exception is raised when the calculate_square_root function is called with a negative number as input.\n",
    "\n",
    "The calculate_square_root function first checks if the input is negative, and if so, raises a NegativeNumberError with a message indicating that the square root of a negative number cannot be calculated.\n",
    "\n",
    "The try block calls the calculate_square_root function with a negative number as input, which raises the NegativeNumberError. The except block catches the exception and prints the error message contained in the NegativeNumberError object.\n",
    "\n",
    "By using custom exceptions, we can provide more specific and informative error messages that make it easier to debug and maintain our code."
   ]
  },
  {
   "cell_type": "code",
   "execution_count": 26,
   "id": "1d09d48d-35b5-4e04-aa22-c8a281ffa9c1",
   "metadata": {},
   "outputs": [
    {
     "name": "stdout",
     "output_type": "stream",
     "text": [
      "Cannot calculate square root of a negative number.\n"
     ]
    }
   ],
   "source": [
    "class NegativeNumberError(Exception):\n",
    "    def __init__(self, message):\n",
    "        self.message = message\n",
    "\n",
    "def calculate_square_root(num):\n",
    "    if num < 0:\n",
    "        raise NegativeNumberError(\"Cannot calculate square root of a negative number.\")\n",
    "    else:\n",
    "        return num ** 0.5\n",
    "\n",
    "try:\n",
    "    result = calculate_square_root(-10)\n",
    "except NegativeNumberError as e:\n",
    "    print(e.message)"
   ]
  }
 ],
 "metadata": {
  "kernelspec": {
   "display_name": "Python 3 (ipykernel)",
   "language": "python",
   "name": "python3"
  },
  "language_info": {
   "codemirror_mode": {
    "name": "ipython",
    "version": 3
   },
   "file_extension": ".py",
   "mimetype": "text/x-python",
   "name": "python",
   "nbconvert_exporter": "python",
   "pygments_lexer": "ipython3",
   "version": "3.10.8"
  }
 },
 "nbformat": 4,
 "nbformat_minor": 5
}
